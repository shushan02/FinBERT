{
 "cells": [
  {
   "cell_type": "code",
   "execution_count": 4,
   "metadata": {},
   "outputs": [
    {
     "data": {
      "text/plain": [
       "0"
      ]
     },
     "execution_count": 4,
     "metadata": {},
     "output_type": "execute_result"
    }
   ],
   "source": [
    "import gc \n",
    "gc.collect()"
   ]
  },
  {
   "cell_type": "code",
   "execution_count": 5,
   "metadata": {
    "ExecuteTime": {
     "end_time": "2022-06-02T02:30:37.970878Z",
     "start_time": "2022-06-02T02:30:34.740917Z"
    }
   },
   "outputs": [
    {
     "name": "stderr",
     "output_type": "stream",
     "text": [
      "2024-05-11 13:29:00.514466: I tensorflow/core/platform/cpu_feature_guard.cc:210] This TensorFlow binary is optimized to use available CPU instructions in performance-critical operations.\n",
      "To enable the following instructions: AVX2 FMA, in other operations, rebuild TensorFlow with the appropriate compiler flags.\n",
      "2024-05-11 13:29:01.422242: W tensorflow/compiler/tf2tensorrt/utils/py_utils.cc:38] TF-TRT Warning: Could not find TensorRT\n"
     ]
    }
   ],
   "source": [
    "import numpy as np\n",
    "import pandas as pd \n",
    "from transformers import BertTokenizer, Trainer, BertForSequenceClassification, TrainingArguments, AutoModelForSequenceClassification\n",
    "from datasets import Dataset\n",
    "import torch\n",
    "from sklearn.model_selection import train_test_split\n",
    "from sklearn.metrics import accuracy_score, f1_score, confusion_matrix, ConfusionMatrixDisplay\n",
    "import matplotlib.pyplot as plt\n",
    "import matplotlib.cm as cm"
   ]
  },
  {
   "cell_type": "code",
   "execution_count": 6,
   "metadata": {
    "ExecuteTime": {
     "end_time": "2022-06-02T02:45:07.491364Z",
     "start_time": "2022-06-02T02:45:07.482746Z"
    }
   },
   "outputs": [
    {
     "data": {
      "text/plain": [
       "('1.13.0+cu117', '4.40.0')"
      ]
     },
     "execution_count": 6,
     "metadata": {},
     "output_type": "execute_result"
    }
   ],
   "source": [
    "# tested in transformers==4.18.0, pytorch==1.7.1 \n",
    "import torch\n",
    "import transformers\n",
    "torch.__version__, transformers.__version__"
   ]
  },
  {
   "cell_type": "markdown",
   "metadata": {
    "ExecuteTime": {
     "end_time": "2022-06-02T02:44:25.431428Z",
     "start_time": "2022-06-02T02:44:25.423127Z"
    }
   },
   "source": [
    "*Note: the following code is for demonstration purpose. Please use GPU for fast inference on large scale dataset.*"
   ]
  },
  {
   "cell_type": "code",
   "execution_count": 7,
   "metadata": {
    "ExecuteTime": {
     "end_time": "2022-06-02T02:44:18.286115Z",
     "start_time": "2022-06-02T02:44:18.222850Z"
    }
   },
   "outputs": [
    {
     "data": {
      "text/plain": [
       "True"
      ]
     },
     "execution_count": 7,
     "metadata": {},
     "output_type": "execute_result"
    }
   ],
   "source": [
    "torch.cuda.is_available()"
   ]
  },
  {
   "cell_type": "markdown",
   "metadata": {},
   "source": [
    "### load dataset"
   ]
  },
  {
   "cell_type": "code",
   "execution_count": 8,
   "metadata": {
    "ExecuteTime": {
     "end_time": "2022-06-02T02:54:06.431016Z",
     "start_time": "2022-06-02T02:54:06.391735Z"
    }
   },
   "outputs": [
    {
     "data": {
      "text/html": [
       "<div>\n",
       "<style scoped>\n",
       "    .dataframe tbody tr th:only-of-type {\n",
       "        vertical-align: middle;\n",
       "    }\n",
       "\n",
       "    .dataframe tbody tr th {\n",
       "        vertical-align: top;\n",
       "    }\n",
       "\n",
       "    .dataframe thead th {\n",
       "        text-align: right;\n",
       "    }\n",
       "</style>\n",
       "<table border=\"1\" class=\"dataframe\">\n",
       "  <thead>\n",
       "    <tr style=\"text-align: right;\">\n",
       "      <th></th>\n",
       "      <th>label</th>\n",
       "      <th>sentence</th>\n",
       "    </tr>\n",
       "  </thead>\n",
       "  <tbody>\n",
       "    <tr>\n",
       "      <th>0</th>\n",
       "      <td>neutral</td>\n",
       "      <td>According to Gran , the company has no plans t...</td>\n",
       "    </tr>\n",
       "    <tr>\n",
       "      <th>1</th>\n",
       "      <td>neutral</td>\n",
       "      <td>Technopolis plans to develop in stages an area...</td>\n",
       "    </tr>\n",
       "    <tr>\n",
       "      <th>2</th>\n",
       "      <td>negative</td>\n",
       "      <td>The international electronic industry company ...</td>\n",
       "    </tr>\n",
       "    <tr>\n",
       "      <th>3</th>\n",
       "      <td>positive</td>\n",
       "      <td>With the new production plant the company woul...</td>\n",
       "    </tr>\n",
       "    <tr>\n",
       "      <th>4</th>\n",
       "      <td>positive</td>\n",
       "      <td>According to the company 's updated strategy f...</td>\n",
       "    </tr>\n",
       "  </tbody>\n",
       "</table>\n",
       "</div>"
      ],
      "text/plain": [
       "      label                                           sentence\n",
       "0   neutral  According to Gran , the company has no plans t...\n",
       "1   neutral  Technopolis plans to develop in stages an area...\n",
       "2  negative  The international electronic industry company ...\n",
       "3  positive  With the new production plant the company woul...\n",
       "4  positive  According to the company 's updated strategy f..."
      ]
     },
     "execution_count": 8,
     "metadata": {},
     "output_type": "execute_result"
    }
   ],
   "source": [
    "df = pd.read_csv('/home/asds/Downloads/news.csv', encoding='latin-1', header=None)## use your own customized dataset\n",
    "df.columns=['label', 'sentence']\n",
    "df.head()"
   ]
  },
  {
   "cell_type": "code",
   "execution_count": 9,
   "metadata": {},
   "outputs": [
    {
     "name": "stderr",
     "output_type": "stream",
     "text": [
      "/tmp/ipykernel_4889/1748453699.py:2: FutureWarning: Downcasting behavior in `replace` is deprecated and will be removed in a future version. To retain the old behavior, explicitly call `result.infer_objects(copy=False)`. To opt-in to the future behavior, set `pd.set_option('future.no_silent_downcasting', True)`\n",
      "  df['label'] = df['label'].replace(sentiment_map)\n"
     ]
    },
    {
     "data": {
      "text/html": [
       "<div>\n",
       "<style scoped>\n",
       "    .dataframe tbody tr th:only-of-type {\n",
       "        vertical-align: middle;\n",
       "    }\n",
       "\n",
       "    .dataframe tbody tr th {\n",
       "        vertical-align: top;\n",
       "    }\n",
       "\n",
       "    .dataframe thead th {\n",
       "        text-align: right;\n",
       "    }\n",
       "</style>\n",
       "<table border=\"1\" class=\"dataframe\">\n",
       "  <thead>\n",
       "    <tr style=\"text-align: right;\">\n",
       "      <th></th>\n",
       "      <th>label</th>\n",
       "      <th>sentence</th>\n",
       "    </tr>\n",
       "  </thead>\n",
       "  <tbody>\n",
       "    <tr>\n",
       "      <th>0</th>\n",
       "      <td>1</td>\n",
       "      <td>According to Gran , the company has no plans t...</td>\n",
       "    </tr>\n",
       "    <tr>\n",
       "      <th>1</th>\n",
       "      <td>1</td>\n",
       "      <td>Technopolis plans to develop in stages an area...</td>\n",
       "    </tr>\n",
       "    <tr>\n",
       "      <th>2</th>\n",
       "      <td>0</td>\n",
       "      <td>The international electronic industry company ...</td>\n",
       "    </tr>\n",
       "    <tr>\n",
       "      <th>3</th>\n",
       "      <td>2</td>\n",
       "      <td>With the new production plant the company woul...</td>\n",
       "    </tr>\n",
       "    <tr>\n",
       "      <th>4</th>\n",
       "      <td>2</td>\n",
       "      <td>According to the company 's updated strategy f...</td>\n",
       "    </tr>\n",
       "    <tr>\n",
       "      <th>...</th>\n",
       "      <td>...</td>\n",
       "      <td>...</td>\n",
       "    </tr>\n",
       "    <tr>\n",
       "      <th>4841</th>\n",
       "      <td>0</td>\n",
       "      <td>LONDON MarketWatch -- Share prices ended lower...</td>\n",
       "    </tr>\n",
       "    <tr>\n",
       "      <th>4842</th>\n",
       "      <td>1</td>\n",
       "      <td>Rinkuskiai 's beer sales fell by 6.5 per cent ...</td>\n",
       "    </tr>\n",
       "    <tr>\n",
       "      <th>4843</th>\n",
       "      <td>0</td>\n",
       "      <td>Operating profit fell to EUR 35.4 mn from EUR ...</td>\n",
       "    </tr>\n",
       "    <tr>\n",
       "      <th>4844</th>\n",
       "      <td>0</td>\n",
       "      <td>Net sales of the Paper segment decreased to EU...</td>\n",
       "    </tr>\n",
       "    <tr>\n",
       "      <th>4845</th>\n",
       "      <td>0</td>\n",
       "      <td>Sales in Finland decreased by 10.5 % in Januar...</td>\n",
       "    </tr>\n",
       "  </tbody>\n",
       "</table>\n",
       "<p>4846 rows × 2 columns</p>\n",
       "</div>"
      ],
      "text/plain": [
       "      label                                           sentence\n",
       "0         1  According to Gran , the company has no plans t...\n",
       "1         1  Technopolis plans to develop in stages an area...\n",
       "2         0  The international electronic industry company ...\n",
       "3         2  With the new production plant the company woul...\n",
       "4         2  According to the company 's updated strategy f...\n",
       "...     ...                                                ...\n",
       "4841      0  LONDON MarketWatch -- Share prices ended lower...\n",
       "4842      1  Rinkuskiai 's beer sales fell by 6.5 per cent ...\n",
       "4843      0  Operating profit fell to EUR 35.4 mn from EUR ...\n",
       "4844      0  Net sales of the Paper segment decreased to EU...\n",
       "4845      0  Sales in Finland decreased by 10.5 % in Januar...\n",
       "\n",
       "[4846 rows x 2 columns]"
      ]
     },
     "execution_count": 9,
     "metadata": {},
     "output_type": "execute_result"
    }
   ],
   "source": [
    "sentiment_map = {\"negative\": 0, \"neutral\": 1, \"positive\": 2}\n",
    "df['label'] = df['label'].replace(sentiment_map)\n",
    "df"
   ]
  },
  {
   "cell_type": "code",
   "execution_count": 10,
   "metadata": {
    "ExecuteTime": {
     "end_time": "2022-06-02T02:54:06.895445Z",
     "start_time": "2022-06-02T02:54:06.880863Z"
    }
   },
   "outputs": [],
   "source": [
    "df = df.dropna(subset=['sentence', 'label']) ## drop missing values"
   ]
  },
  {
   "cell_type": "markdown",
   "metadata": {},
   "source": [
    "### prepare training/validation/testing"
   ]
  },
  {
   "cell_type": "code",
   "execution_count": 84,
   "metadata": {
    "ExecuteTime": {
     "end_time": "2022-06-02T02:54:08.030875Z",
     "start_time": "2022-06-02T02:54:07.999354Z"
    }
   },
   "outputs": [
    {
     "name": "stdout",
     "output_type": "stream",
     "text": [
      "(3924, 2) (485, 2) (437, 2)\n"
     ]
    }
   ],
   "source": [
    "df_train, df_test, = train_test_split(df, stratify=df['label'], test_size=0.1, random_state=42)\n",
    "df_train, df_val = train_test_split(df_train, stratify=df_train['label'],test_size=0.1, random_state=42)\n",
    "print(df_train.shape, df_test.shape, df_val.shape)"
   ]
  },
  {
   "cell_type": "markdown",
   "metadata": {},
   "source": [
    "### load FinBERT pretrained model\n",
    "The pretrained FinBERT model path on Huggingface is https://huggingface.co/yiyanghkust/finbert-pretrain"
   ]
  },
  {
   "cell_type": "code",
   "execution_count": 46,
   "metadata": {
    "ExecuteTime": {
     "end_time": "2022-06-02T02:54:17.945203Z",
     "start_time": "2022-06-02T02:54:10.422200Z"
    }
   },
   "outputs": [
    {
     "name": "stderr",
     "output_type": "stream",
     "text": [
      "Some weights of BertForSequenceClassification were not initialized from the model checkpoint at yiyanghkust/finbert-pretrain and are newly initialized: ['classifier.bias', 'classifier.weight']\n",
      "You should probably TRAIN this model on a down-stream task to be able to use it for predictions and inference.\n"
     ]
    }
   ],
   "source": [
    "# Define model\n",
    "def model_init():\n",
    "  return AutoModelForSequenceClassification.from_pretrained('yiyanghkust/finbert-pretrain', \n",
    "                                                           num_labels=3,\n",
    "                                                           output_attentions = False, # Whether the model returns attentions weights.\n",
    "                                                           output_hidden_states = False,\n",
    "                                                           return_dict=True \n",
    "                                                           )\n",
    "\n",
    "\n",
    "model = AutoModelForSequenceClassification.from_pretrained('yiyanghkust/finbert-pretrain', \n",
    "                                                           num_labels=3,\n",
    "                                                           output_attentions = False, # Whether the model returns attentions weights.\n",
    "                                                           output_hidden_states = False,\n",
    "                                                           return_dict=True \n",
    "                                                           )\n",
    "\n",
    "tokenizer = BertTokenizer.from_pretrained('yiyanghkust/finbert-pretrain')"
   ]
  },
  {
   "cell_type": "markdown",
   "metadata": {
    "ExecuteTime": {
     "end_time": "2022-06-02T02:37:33.687054Z",
     "start_time": "2022-06-02T02:37:33.664650Z"
    }
   },
   "source": [
    "### prepare dataset for fine-tuning"
   ]
  },
  {
   "cell_type": "code",
   "execution_count": 47,
   "metadata": {
    "ExecuteTime": {
     "end_time": "2022-06-02T02:54:33.660010Z",
     "start_time": "2022-06-02T02:54:17.948143Z"
    }
   },
   "outputs": [
    {
     "data": {
      "application/vnd.jupyter.widget-view+json": {
       "model_id": "195f2567ada34b0da2e7e4c1c2a020fe",
       "version_major": 2,
       "version_minor": 0
      },
      "text/plain": [
       "Map:   0%|          | 0/3924 [00:00<?, ? examples/s]"
      ]
     },
     "metadata": {},
     "output_type": "display_data"
    },
    {
     "data": {
      "application/vnd.jupyter.widget-view+json": {
       "model_id": "b2e14a0d49bc4ffc892f050c052c5f6c",
       "version_major": 2,
       "version_minor": 0
      },
      "text/plain": [
       "Map:   0%|          | 0/437 [00:00<?, ? examples/s]"
      ]
     },
     "metadata": {},
     "output_type": "display_data"
    },
    {
     "data": {
      "application/vnd.jupyter.widget-view+json": {
       "model_id": "9d0218b37f9b4612a71f5f4b7200e35d",
       "version_major": 2,
       "version_minor": 0
      },
      "text/plain": [
       "Map:   0%|          | 0/485 [00:00<?, ? examples/s]"
      ]
     },
     "metadata": {},
     "output_type": "display_data"
    }
   ],
   "source": [
    "dataset_train = Dataset.from_pandas(df_train)\n",
    "dataset_val = Dataset.from_pandas(df_val)\n",
    "dataset_test = Dataset.from_pandas(df_test)\n",
    "\n",
    "dataset_train = dataset_train.map(lambda e: tokenizer(e['sentence'], truncation=True, padding='max_length', max_length=128), batched=True)\n",
    "dataset_val = dataset_val.map(lambda e: tokenizer(e['sentence'], truncation=True, padding='max_length', max_length=128), batched=True)\n",
    "dataset_test = dataset_test.map(lambda e: tokenizer(e['sentence'], truncation=True, padding='max_length' , max_length=128), batched=True)\n",
    "\n",
    "dataset_train.set_format(type='torch', columns=['input_ids', 'token_type_ids', 'attention_mask', 'label'])\n",
    "dataset_val.set_format(type='torch', columns=['input_ids', 'token_type_ids', 'attention_mask', 'label'])\n",
    "dataset_test.set_format(type='torch', columns=['input_ids', 'token_type_ids', 'attention_mask', 'label'])\n"
   ]
  },
  {
   "cell_type": "markdown",
   "metadata": {},
   "source": [
    "### define training options"
   ]
  },
  {
   "cell_type": "code",
   "execution_count": 48,
   "metadata": {
    "ExecuteTime": {
     "end_time": "2022-06-02T02:57:15.963784Z",
     "start_time": "2022-06-02T02:54:33.662575Z"
    }
   },
   "outputs": [
    {
     "name": "stderr",
     "output_type": "stream",
     "text": [
      "/home/asds/anaconda3/lib/python3.11/site-packages/transformers/trainer.py:409: FutureWarning: `Trainer` requires either a `model` or `model_init` argument, but not both. `model_init` will overwrite your model when calling the `train` method. This will become a fatal error in the next release.\n",
      "  warnings.warn(\n",
      "Some weights of BertForSequenceClassification were not initialized from the model checkpoint at yiyanghkust/finbert-pretrain and are newly initialized: ['classifier.bias', 'classifier.weight']\n",
      "You should probably TRAIN this model on a down-stream task to be able to use it for predictions and inference.\n"
     ]
    },
    {
     "data": {
      "text/html": [
       "\n",
       "    <div>\n",
       "      \n",
       "      <progress value='1230' max='1230' style='width:300px; height:20px; vertical-align: middle;'></progress>\n",
       "      [1230/1230 11:57, Epoch 10/10]\n",
       "    </div>\n",
       "    <table border=\"1\" class=\"dataframe\">\n",
       "  <thead>\n",
       " <tr style=\"text-align: left;\">\n",
       "      <th>Epoch</th>\n",
       "      <th>Training Loss</th>\n",
       "      <th>Validation Loss</th>\n",
       "      <th>Accuracy</th>\n",
       "      <th>F1</th>\n",
       "    </tr>\n",
       "  </thead>\n",
       "  <tbody>\n",
       "    <tr>\n",
       "      <td>1</td>\n",
       "      <td>No log</td>\n",
       "      <td>0.307788</td>\n",
       "      <td>0.890160</td>\n",
       "      <td>0.889875</td>\n",
       "    </tr>\n",
       "    <tr>\n",
       "      <td>2</td>\n",
       "      <td>No log</td>\n",
       "      <td>0.350277</td>\n",
       "      <td>0.851259</td>\n",
       "      <td>0.852722</td>\n",
       "    </tr>\n",
       "    <tr>\n",
       "      <td>3</td>\n",
       "      <td>No log</td>\n",
       "      <td>0.426470</td>\n",
       "      <td>0.855835</td>\n",
       "      <td>0.856650</td>\n",
       "    </tr>\n",
       "    <tr>\n",
       "      <td>4</td>\n",
       "      <td>No log</td>\n",
       "      <td>0.563316</td>\n",
       "      <td>0.874142</td>\n",
       "      <td>0.874845</td>\n",
       "    </tr>\n",
       "    <tr>\n",
       "      <td>5</td>\n",
       "      <td>0.260600</td>\n",
       "      <td>0.667489</td>\n",
       "      <td>0.874142</td>\n",
       "      <td>0.872272</td>\n",
       "    </tr>\n",
       "    <tr>\n",
       "      <td>6</td>\n",
       "      <td>0.260600</td>\n",
       "      <td>0.724914</td>\n",
       "      <td>0.867277</td>\n",
       "      <td>0.868065</td>\n",
       "    </tr>\n",
       "    <tr>\n",
       "      <td>7</td>\n",
       "      <td>0.260600</td>\n",
       "      <td>0.695767</td>\n",
       "      <td>0.871854</td>\n",
       "      <td>0.872005</td>\n",
       "    </tr>\n",
       "    <tr>\n",
       "      <td>8</td>\n",
       "      <td>0.260600</td>\n",
       "      <td>0.722669</td>\n",
       "      <td>0.874142</td>\n",
       "      <td>0.873936</td>\n",
       "    </tr>\n",
       "    <tr>\n",
       "      <td>9</td>\n",
       "      <td>0.018600</td>\n",
       "      <td>0.744725</td>\n",
       "      <td>0.878719</td>\n",
       "      <td>0.879010</td>\n",
       "    </tr>\n",
       "    <tr>\n",
       "      <td>10</td>\n",
       "      <td>0.018600</td>\n",
       "      <td>0.743176</td>\n",
       "      <td>0.874142</td>\n",
       "      <td>0.874161</td>\n",
       "    </tr>\n",
       "  </tbody>\n",
       "</table><p>"
      ],
      "text/plain": [
       "<IPython.core.display.HTML object>"
      ]
     },
     "metadata": {},
     "output_type": "display_data"
    },
    {
     "data": {
      "text/plain": [
       "TrainOutput(global_step=1230, training_loss=0.11433369493096825, metrics={'train_runtime': 717.833, 'train_samples_per_second': 54.665, 'train_steps_per_second': 1.713, 'total_flos': 2581142627911680.0, 'train_loss': 0.11433369493096825, 'epoch': 10.0})"
      ]
     },
     "execution_count": 48,
     "metadata": {},
     "output_type": "execute_result"
    }
   ],
   "source": [
    "def compute_metrics(eval_pred):\n",
    "    predictions, labels = eval_pred\n",
    "    predictions = np.argmax(predictions, axis=1)\n",
    "    return {\n",
    "        'accuracy' : accuracy_score(predictions, labels),\n",
    "        'f1': f1_score(labels, predictions, average='weighted')  # Add F1-score calculation\n",
    "    }\n",
    "\n",
    "\n",
    "def freeze_bert_layers(model, n_freeze_layers):\n",
    "  \"\"\"\n",
    "  Freezes the first n_freeze_layers layers of the BERT model.\n",
    "\n",
    "  Args:\n",
    "      model (BertForSequenceClassification): The BERT model for sequence classification.\n",
    "      n_freeze_layers (int, optional): The number of layers to freeze.\n",
    "  \"\"\"\n",
    "  for name, param in model.bert.named_parameters():\n",
    "    if name[:len('bert.encoder.layer.')] == 'bert.encoder.layer.':\n",
    "      layer_index = int(name[len('bert.encoder.layer.') : -len('.weight')])\n",
    "      if layer_index < n_freeze_layers:\n",
    "        param.requires_grad = False  # Freeze layer parameters\n",
    "      else:\n",
    "        param.requires_grad = True  # Unfreeze remaining layers\n",
    "\n",
    "\n",
    "# Freeze the first 5 layers of BERT model for gradual tuning\n",
    "freeze_bert_layers(model, n_freeze_layers=6)  # Call here before training loop\n",
    "\n",
    "args = TrainingArguments(\n",
    "        output_dir = 'temp/',\n",
    "        evaluation_strategy = 'epoch',\n",
    "        save_strategy = 'epoch',\n",
    "        learning_rate=2e-5,\n",
    "        per_device_train_batch_size=32,\n",
    "        per_device_eval_batch_size=32,\n",
    "        num_train_epochs=10,\n",
    "        weight_decay=0.02,\n",
    "        load_best_model_at_end=True,\n",
    "        metric_for_best_model='f1',\n",
    "        # seed=42\n",
    ")\n",
    "\n",
    "\n",
    "trainer = Trainer(\n",
    "        model=model,\n",
    "        model_init=model_init,                         # the instantiated 🤗 Transformers model to be trained\n",
    "        args=args,                  # training arguments, defined above\n",
    "        train_dataset=dataset_train,         # training dataset\n",
    "        eval_dataset=dataset_val,            # evaluation dataset\n",
    "        compute_metrics=compute_metrics, \n",
    "        # eval_callback=eval_callback\n",
    "        # lr_scheduler=scheduler\n",
    ")\n",
    "\n",
    "\n",
    "trainer.train()\n",
    "\n",
    "\n",
    " "
   ]
  },
  {
   "cell_type": "markdown",
   "metadata": {},
   "source": [
    "### evaluate on testing set"
   ]
  },
  {
   "cell_type": "code",
   "execution_count": 49,
   "metadata": {
    "ExecuteTime": {
     "end_time": "2022-06-02T03:09:08.434635Z",
     "start_time": "2022-06-02T03:09:06.980671Z"
    }
   },
   "outputs": [
    {
     "data": {
      "text/html": [],
      "text/plain": [
       "<IPython.core.display.HTML object>"
      ]
     },
     "metadata": {},
     "output_type": "display_data"
    },
    {
     "data": {
      "text/plain": [
       "{'test_loss': 0.3962199091911316,\n",
       " 'test_accuracy': 0.8350515463917526,\n",
       " 'test_f1': 0.8353708687613018,\n",
       " 'test_runtime': 3.4478,\n",
       " 'test_samples_per_second': 140.67,\n",
       " 'test_steps_per_second': 4.641}"
      ]
     },
     "execution_count": 49,
     "metadata": {},
     "output_type": "execute_result"
    }
   ],
   "source": [
    "model.eval()\n",
    "trainer.predict(dataset_test).metrics"
   ]
  },
  {
   "cell_type": "code",
   "execution_count": 50,
   "metadata": {
    "ExecuteTime": {
     "end_time": "2022-06-02T03:09:11.599174Z",
     "start_time": "2022-06-02T03:09:10.847115Z"
    }
   },
   "outputs": [],
   "source": [
    "trainer.save_model('finbert-sentiment/')"
   ]
  },
  {
   "cell_type": "code",
   "execution_count": 51,
   "metadata": {},
   "outputs": [],
   "source": [
    "model = AutoModelForSequenceClassification.from_pretrained('/home/asds/FinBERT/finbert-sentiment',num_labels=3)\n",
    "tokenizer = BertTokenizer.from_pretrained('yiyanghkust/finbert-pretrain')"
   ]
  },
  {
   "cell_type": "code",
   "execution_count": 186,
   "metadata": {},
   "outputs": [
    {
     "name": "stdout",
     "output_type": "stream",
     "text": [
      "Confusion Matrix:\n",
      " [[ 53   8   0]\n",
      " [ 13 249  26]\n",
      " [  7  26 103]]\n"
     ]
    }
   ],
   "source": [
    "predicted_labels = []\n",
    "true_labels = []\n",
    "for sentence, label in zip(df_test['sentence'], df_test['label']):\n",
    "  # Preprocess the sentence\n",
    "  encoded_inputs = tokenizer(sentence, truncation=True, padding='max_length' , max_length=128)\n",
    "  input_ids = torch.tensor([encoded_inputs['input_ids']]).to(model.device)  # Convert to tensor and move to device (CPU or GPU)\n",
    "  attention_mask = torch.tensor([encoded_inputs['attention_mask']]).to(model.device)\n",
    "  token_type_ids = torch.tensor([encoded_inputs['token_type_ids']]).to(model.device)  # Include if your model uses them\n",
    "  batch = {\n",
    "    'input_ids': input_ids,\n",
    "    'attention_mask': attention_mask,\n",
    "    'token_type_ids': token_type_ids  # Include if applicable\n",
    "  }\n",
    "  # Make prediction\n",
    "  with torch.no_grad():\n",
    "    outputs = model(**batch)\n",
    "    predictions = torch.argmax(outputs.logits, dim=-1)\n",
    "\n",
    "  predicted_label = predictions.item()\n",
    "  predicted_labels.append(predicted_label)\n",
    "  true_labels.append(label)\n",
    "# true_labels_for_plot = true_labels[: len(confusion_matrix_result[0])]  # Assuming first row represents classes\n",
    "# Calculate confusion matrix\n",
    "confusion_matrix_result = confusion_matrix(true_labels, predicted_labels)\n",
    "\n",
    "# Print the confusion matrix\n",
    "print(\"Confusion Matrix:\\n\", confusion_matrix_result)"
   ]
  },
  {
   "cell_type": "code",
   "execution_count": 200,
   "metadata": {},
   "outputs": [
    {
     "data": {
      "image/png": "[encoded data removed]",
      "text/plain": [
       "<Figure size 640x480 with 2 Axes>"
      ]
     },
     "metadata": {},
     "output_type": "display_data"
    }
   ],
   "source": [
    "disp = ConfusionMatrixDisplay(confusion_matrix_result, display_labels=list(sentiment_map.keys()))\n",
    "colormap = cm.Blues\n",
    "\n",
    "disp.plot(cmap=colormap)\n",
    "plt.show()\n"
   ]
  },
  {
   "cell_type": "markdown",
   "metadata": {},
   "source": [
    "### use the fine-tuned model"
   ]
  },
  {
   "cell_type": "code",
   "execution_count": 195,
   "metadata": {},
   "outputs": [],
   "source": [
    "def get_sentiment(sentence):\n",
    "    encoded_inputs = tokenizer(sentence, truncation=True, padding='max_length' , max_length=128)\n",
    "    input_ids = torch.tensor([encoded_inputs['input_ids']]).to(model.device)  # Convert to tensor and move to device (CPU or GPU)\n",
    "    attention_mask = torch.tensor([encoded_inputs['attention_mask']]).to(model.device)\n",
    "    token_type_ids = torch.tensor([encoded_inputs['token_type_ids']]).to(model.device)  # Include if your model uses them\n",
    "    # Create a single-element batch\n",
    "    batch = {\n",
    "        'input_ids': input_ids,\n",
    "        'attention_mask': attention_mask,\n",
    "        'token_type_ids': token_type_ids  # Include if applicable\n",
    "    }\n",
    "    with torch.no_grad():  # Disable gradient calculation for efficiency\n",
    "      outputs = model(**batch)\n",
    "      predictions = torch.argmax(outputs.logits, dim=-1)  # Get the predicted class index\n",
    "    predicted_label = predictions.item()\n",
    "    predicted_label = predictions.item()\n",
    "    if predicted_label == 0:\n",
    "      sentiment = \"negative\"  # Explicit handling for label 0\n",
    "    elif predicted_label == 1:\n",
    "        sentiment = \"neutral\"\n",
    "    else:\n",
    "        sentiment = \"positive\"\n",
    "    return(f\"Predicted sentiment for '{sentence}': {sentiment}\")"
   ]
  },
  {
   "cell_type": "code",
   "execution_count": 202,
   "metadata": {},
   "outputs": [
    {
     "name": "stdout",
     "output_type": "stream",
     "text": [
      "Predicted sentiment for 'Pinterest Stock Has 30% Upside, According to 1 Wall Street Analyst': positive\n",
      "Predicted sentiment for 'Tiny Telehealth Stock Sinks 85% as Wild IPO Rally Collapses': negative\n",
      "Predicted sentiment for 'Global stocks climb to record highs as investors cheer economic recovery ': positive\n",
      "Predicted sentiment for 'Chinese Cement Maker Halted After 99% Crash in 15 Minutes': negative\n",
      "Predicted sentiment for 'Here’s the good news in a troubling inflation report': neutral\n",
      "Predicted sentiment for 'Tiny Telehealth Stock Sinks 85% as Wild IPO Rally Collapses': negative\n",
      "Predicted sentiment for 'US Inflation Refuses to Bend, Fanning Fears It Will Stick': negative\n",
      "Predicted sentiment for 'Apple Stock Has 33% Upside, According to 1 Wall Street Analyst': positive\n",
      "Predicted sentiment for 'Forget FAANG and the \"Magnificent Seven\" -- These \"AI Five\" Stocks Are Screaming Buys Right Now': neutral\n",
      "Predicted sentiment for 'Unemployment Rate Falls to Lowest Level in Decades, Economic Optimism Rises': neutral\n",
      "Predicted sentiment for 'An unexpected airline has started bringing in serious profits': negative\n",
      "Predicted sentiment for 'Apple Cut at Least 600 Workers When Car, Screen Projects Stopped': negative\n"
     ]
    }
   ],
   "source": [
    "# get_sentiment(filtered_df['sentence'].iloc[0])\n",
    "sentence_1 = 'Pinterest Stock Has 30% Upside, According to 1 Wall Street Analyst' \n",
    "sentence_2 = 'Tiny Telehealth Stock Sinks 85% as Wild IPO Rally Collapses'\n",
    "sentence_3 = 'Global stocks climb to record highs as investors cheer economic recovery '\n",
    "sentence_4 = 'Chinese Cement Maker Halted After 99% Crash in 15 Minutes'\n",
    "sentence_5 = 'Here’s the good news in a troubling inflation report'\n",
    "sentence_6 = 'Tiny Telehealth Stock Sinks 85% as Wild IPO Rally Collapses'\n",
    "sentence_7 = 'US Inflation Refuses to Bend, Fanning Fears It Will Stick'\n",
    "sentence_8 = 'Apple Stock Has 33% Upside, According to 1 Wall Street Analyst'\n",
    "sentence_9 = 'Forget FAANG and the \"Magnificent Seven\" -- These \"AI Five\" Stocks Are Screaming Buys Right Now'\n",
    "sentence_10 = 'Unemployment Rate Falls to Lowest Level in Decades, Economic Optimism Rises'\n",
    "sentence_11 = 'An unexpected airline has started bringing in serious profits'     #negative, but i think its positive\n",
    "sentence_12 = 'Apple Cut at Least 600 Workers When Car, Screen Projects Stopped'\n",
    "print(get_sentiment(sentence_1))\n",
    "print(get_sentiment(sentence_2))\n",
    "print(get_sentiment(sentence_3))\n",
    "print(get_sentiment(sentence_4))\n",
    "print(get_sentiment(sentence_5))\n",
    "print(get_sentiment(sentence_6))\n",
    "print(get_sentiment(sentence_7))\n",
    "print(get_sentiment(sentence_8))\n",
    "print(get_sentiment(sentence_9))\n",
    "print(get_sentiment(sentence_10))\n",
    "print(get_sentiment(sentence_11))\n",
    "print(get_sentiment(sentence_12))"
   ]
  }
 ],
 "metadata": {
  "kernelspec": {
   "display_name": "Python 3 (ipykernel)",
   "language": "python",
   "name": "python3"
  },
  "language_info": {
   "codemirror_mode": {
    "name": "ipython",
    "version": 3
   },
   "file_extension": ".py",
   "mimetype": "text/x-python",
   "name": "python",
   "nbconvert_exporter": "python",
   "pygments_lexer": "ipython3",
   "version": "3.11.7"
  }
 },
 "nbformat": 4,
 "nbformat_minor": 4
}
